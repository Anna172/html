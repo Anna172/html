{
  "nbformat": 4,
  "nbformat_minor": 0,
  "metadata": {
    "colab": {
      "name": "Задача 4.ipynb",
      "provenance": [],
      "authorship_tag": "ABX9TyNezThMlb80bIZKIpgmiP9G",
      "include_colab_link": true
    },
    "kernelspec": {
      "name": "python3",
      "display_name": "Python 3"
    },
    "language_info": {
      "name": "python"
    }
  },
  "cells": [
    {
      "cell_type": "markdown",
      "metadata": {
        "id": "view-in-github",
        "colab_type": "text"
      },
      "source": [
        "<a href=\"https://colab.research.google.com/github/Anna172/html/blob/master/%D0%97%D0%B0%D0%B4%D0%B0%D1%87%D0%B0_4.ipynb\" target=\"_parent\"><img src=\"https://colab.research.google.com/assets/colab-badge.svg\" alt=\"Open In Colab\"/></a>"
      ]
    },
    {
      "cell_type": "code",
      "metadata": {
        "colab": {
          "base_uri": "https://localhost:8080/"
        },
        "id": "rGdMCfAFCdOL",
        "outputId": "6c86dfa7-4913-459d-a525-2350e9f9c12a"
      },
      "source": [
        "from scipy.stats import cauchy\n",
        "r = cauchy.rvs(1, 1, size=12, random_state = 122)\n",
        "print('1)')\n",
        "\n",
        "print('Смоделированная выборка:')\n",
        "\n",
        "r"
      ],
      "execution_count": 35,
      "outputs": [
        {
          "output_type": "stream",
          "name": "stdout",
          "text": [
            "1)\n",
            "Смоделированная выборка:\n"
          ]
        },
        {
          "output_type": "execute_result",
          "data": {
            "text/plain": [
              "array([-0.86042609,  1.73720452,  0.06963907,  0.84712717,  0.70287022,\n",
              "        1.36550119,  1.2670984 , -0.25215849, -0.4837249 ,  1.73666125,\n",
              "        0.90806328,  0.95300766])"
            ]
          },
          "metadata": {},
          "execution_count": 35
        }
      ]
    },
    {
      "cell_type": "code",
      "metadata": {
        "id": "44rnybfe4q2U"
      },
      "source": [
        "import math\n",
        "def distr_fun(q):\n",
        "  x = math.tan(np.pi * (q - 0.5)) + 1\n",
        "  return x\n"
      ],
      "execution_count": 15,
      "outputs": []
    },
    {
      "cell_type": "code",
      "metadata": {
        "colab": {
          "base_uri": "https://localhost:8080/"
        },
        "id": "dgmzA_r1CrH_",
        "outputId": "9cef5713-4c67-43a3-c3ce-c48c2e2c1af0"
      },
      "source": [
        "import numpy as np\n",
        "\n",
        "print('2)')\n",
        "q = [distr_fun(0), distr_fun(0.25), distr_fun(0.5), distr_fun(0.75), distr_fun(1)]\n",
        "print('Границы интервалов: ' + str(q) + \"\\n\")\n",
        "\n",
        "observed_count = [0, 0, 0, 0]\n",
        "for i in range(1, len(q)):\n",
        "  for j in range(len(r)):\n",
        "    if (r[j] <= q[i]) and (q[i - 1] <= r[j]):\n",
        "      observed_count[i - 1] += 1\n",
        "\n",
        "espected_count = np.array([3, 3, 3, 3])\n",
        "observed_count = np.array(observed_count)\n",
        "\n",
        "print(\"Попадание наблюдений в равновероятностные интервалы: \" + str(observed_count))\n",
        "print(\"Ожидаемое попадание в равновероятностные интервалы: \" + str(espected_count) + \"\\n\")\n",
        "\n",
        "a = ((observed_count - espected_count) ** 2) / espected_count\n",
        "print( 'Хи2: ' + str(round(np.sum(a), 2)))\n",
        "\n",
        "print('Порог: 7.8')"
      ],
      "execution_count": 40,
      "outputs": [
        {
          "output_type": "stream",
          "name": "stdout",
          "text": [
            "2)\n",
            "Границы интервалов: [-1.6331239353195368e+16, 1.1102230246251565e-16, 1.0, 2.0, 1.6331239353195372e+16]\n",
            "\n",
            "Попадание наблюдений в равновероятностные интервалы: [3 5 4 0]\n",
            "Ожидаемое попадание в равновероятностные интервалы: [3 3 3 3]\n",
            "\n",
            "Хи2: 4.67\n",
            "Порог: 7.8\n"
          ]
        }
      ]
    },
    {
      "cell_type": "markdown",
      "metadata": {
        "id": "YGmIubnVFeQ9"
      },
      "source": [
        "Хи2 < Порога => H0 - верна. Имеющиеся наблюения принадлежат распределению Коши."
      ]
    },
    {
      "cell_type": "code",
      "metadata": {
        "colab": {
          "base_uri": "https://localhost:8080/"
        },
        "id": "HbqbZiAvHdgW",
        "outputId": "bd8fb554-b024-40b6-8afc-0ed6421798e3"
      },
      "source": [
        "print('3_1)')\n",
        "# получила квантили нормального распределения с параметрами а = 1 и д = 0.5\n",
        "# на это сайте https://planetcalc.ru/4987/\n",
        "\n",
        "q = [-200, 0.52, 1, 1.48, 200]\n",
        "print('Границы интервалов: ' + str(q) + \"\\n\")\n",
        "\n",
        "observed_count = [0, 0, 0, 0]\n",
        "for i in range(1, len(q)):\n",
        "  for j in range(len(r)):\n",
        "    if (r[j] <= q[i]) and (q[i - 1] <= r[j]):\n",
        "      observed_count[i - 1] += 1\n",
        "\n",
        "espected_count = np.array([3, 3, 3, 3])\n",
        "observed_count = np.array(observed_count)\n",
        "\n",
        "print(\"Попадание наблюдений в равновероятностные интервалы: \" + str(observed_count))\n",
        "print(\"Ожидаемое попадание в равновероятностные интервалы: \" + str(espected_count) + \"\\n\")\n",
        "\n",
        "a = ((observed_count - espected_count) ** 2) / espected_count\n",
        "print( 'Хи2: ' + str(round(np.sum(a), 2)))\n",
        "\n",
        "print('Порог: 9.84')\n"
      ],
      "execution_count": 43,
      "outputs": [
        {
          "output_type": "stream",
          "name": "stdout",
          "text": [
            "3_1)\n",
            "Границы интервалов: [-200, 0.52, 1, 1.48, 200]\n",
            "\n",
            "Попадание наблюдений в равновероятностные интервалы: [4 4 2 2]\n",
            "Ожидаемое попадание в равновероятностные интервалы: [3 3 3 3]\n",
            "\n",
            "Хи2: 1.33\n",
            "Порог: 9.84\n"
          ]
        }
      ]
    },
    {
      "cell_type": "markdown",
      "metadata": {
        "id": "PjSEYuI4L66W"
      },
      "source": [
        "Хи2 < Порога => H0 - верна. Имеющиеся наблюения принадлежат нормальному распределению с параметрами а = 1 и д = 0.5."
      ]
    },
    {
      "cell_type": "code",
      "metadata": {
        "colab": {
          "base_uri": "https://localhost:8080/"
        },
        "id": "xCIKeiBgKtaY",
        "outputId": "2ddaac0a-bbd6-43f9-d42f-2024a34d0a10"
      },
      "source": [
        "print('3_2)')\n",
        "# получила квантили нормального распределения с параметрами а = 1 и д = 1\n",
        "# на это сайте https://planetcalc.ru/4987/\n",
        "\n",
        "q = [-200, 0.33, 1, 1.67, 200]\n",
        "print('Границы интервалов: ' + str(q) + \"\\n\")\n",
        "\n",
        "observed_count = [0, 0, 0, 0]\n",
        "for i in range(1, len(q)):\n",
        "  for j in range(len(r)):\n",
        "    if (r[j] <= q[i]) and (q[i - 1] <= r[j]):\n",
        "      observed_count[i - 1] += 1\n",
        "\n",
        "espected_count = np.array([3, 3, 3, 3])\n",
        "observed_count = np.array(observed_count)\n",
        "\n",
        "print(\"Попадание наблюдений в равновероятностные интервалы: \" + str(observed_count))\n",
        "print(\"Ожидаемое попадание в равновероятностные интервалы: \" + str(espected_count) + \"\\n\")\n",
        "\n",
        "a = ((observed_count - espected_count) ** 2) / espected_count\n",
        "print( 'Хи2: ' + str(round(np.sum(a), 2)))\n",
        "\n",
        "print('Порог: 9.84')\n"
      ],
      "execution_count": 44,
      "outputs": [
        {
          "output_type": "stream",
          "name": "stdout",
          "text": [
            "3_2)\n",
            "Границы интервалов: [-200, 0.33, 1, 1.67, 200]\n",
            "\n",
            "Попадание наблюдений в равновероятностные интервалы: [4 4 2 2]\n",
            "Ожидаемое попадание в равновероятностные интервалы: [3 3 3 3]\n",
            "\n",
            "Хи2: 1.33\n",
            "Порог: 9.84\n"
          ]
        }
      ]
    },
    {
      "cell_type": "markdown",
      "metadata": {
        "id": "oiT8JoZgMUHR"
      },
      "source": [
        "Хи2 < Порога => H0 - верна. Имеющиеся наблюения принадлежат нормальному распределению с параметрами а = 1 и д = 1."
      ]
    },
    {
      "cell_type": "code",
      "metadata": {
        "colab": {
          "base_uri": "https://localhost:8080/"
        },
        "id": "lxluH7s-ObZq",
        "outputId": "f6ba5e72-3200-4958-892d-378ebf720aea"
      },
      "source": [
        "import numpy as np\n",
        "\n",
        "print('4_1_2: Опровергнем первую гипотезу'  + \"\\n\")\n",
        "\n",
        "r = cauchy.rvs(1, 1, size=12 * 2, random_state = 122)\n",
        "\n",
        "q = [distr_fun(0), distr_fun(0.25), distr_fun(0.5), distr_fun(0.75), distr_fun(1)]\n",
        "print('Границы интервалов: ' + str(q) + \"\\n\")\n",
        "\n",
        "observed_count = [0, 0, 0, 0]\n",
        "for i in range(1, len(q)):\n",
        "  for j in range(len(r)):\n",
        "    if (r[j] <= q[i]) and (q[i - 1] <= r[j]):\n",
        "      observed_count[i - 1] += 1\n",
        "\n",
        "espected_count = np.array([3, 3, 3, 3])\n",
        "observed_count = np.array(observed_count)\n",
        "\n",
        "print(\"Попадание наблюдений в равновероятностные интервалы: \" + str(observed_count))\n",
        "print(\"Ожидаемое попадание в равновероятностные интервалы: \" + str(espected_count) + \"\\n\")\n",
        "\n",
        "a = ((observed_count - espected_count) ** 2) / espected_count\n",
        "print( 'Хи2: ' + str(round(np.sum(a), 2)))\n",
        "\n",
        "print('Порог: 7.8')"
      ],
      "execution_count": 48,
      "outputs": [
        {
          "output_type": "stream",
          "name": "stdout",
          "text": [
            "4_1_2: Опровергнем первую гипотезу\n",
            "\n",
            "Границы интервалов: [-1.6331239353195368e+16, 1.1102230246251565e-16, 1.0, 2.0, 1.6331239353195372e+16]\n",
            "\n",
            "Попадание наблюдений в равновероятностные интервалы: [7 7 7 3]\n",
            "Ожидаемое попадание в равновероятностные интервалы: [3 3 3 3]\n",
            "\n",
            "Хи2: 16.0\n",
            "Порог: 7.8\n"
          ]
        }
      ]
    },
    {
      "cell_type": "markdown",
      "metadata": {
        "id": "7VNcjg8zO4a9"
      },
      "source": [
        "Хи2 > Порога => H0 - не верна. Имеющиеся наблюения не принадлежат распределению Коши."
      ]
    },
    {
      "cell_type": "code",
      "metadata": {
        "colab": {
          "base_uri": "https://localhost:8080/"
        },
        "id": "U4KcIRU2OtlQ",
        "outputId": "c5a4a10d-8ce5-4b06-832e-dd1b92da2545"
      },
      "source": [
        "print('4_2_2: Опровергнем вторую гипотезу'  + \"\\n\")\n",
        "\n",
        "r = cauchy.rvs(1, 1, size=12 * 2, random_state = 122)\n",
        "# получила квантили нормального распределения с параметрами а = 1 и д = 0.5\n",
        "# на это сайте https://planetcalc.ru/4987/\n",
        "\n",
        "q = [-200, 0.52, 1, 1.48, 200]\n",
        "print('Границы интервалов: ' + str(q) + \"\\n\")\n",
        "\n",
        "observed_count = [0, 0, 0, 0]\n",
        "for i in range(1, len(q)):\n",
        "  for j in range(len(r)):\n",
        "    if (r[j] <= q[i]) and (q[i - 1] <= r[j]):\n",
        "      observed_count[i - 1] += 1\n",
        "\n",
        "espected_count = np.array([3, 3, 3, 3])\n",
        "observed_count = np.array(observed_count)\n",
        "\n",
        "print(\"Попадание наблюдений в равновероятностные интервалы: \" + str(observed_count))\n",
        "print(\"Ожидаемое попадание в равновероятностные интервалы: \" + str(espected_count) + \"\\n\")\n",
        "\n",
        "a = ((observed_count - espected_count) ** 2) / espected_count\n",
        "print( 'Хи2: ' + str(round(np.sum(a), 2)))\n",
        "\n",
        "print('Порог: 9.84')\n"
      ],
      "execution_count": 49,
      "outputs": [
        {
          "output_type": "stream",
          "name": "stdout",
          "text": [
            "4_2_2: Опровергнем вторую гипотезу\n",
            "\n",
            "Границы интервалов: [-200, 0.52, 1, 1.48, 200]\n",
            "\n",
            "Попадание наблюдений в равновероятностные интервалы: [8 6 4 6]\n",
            "Ожидаемое попадание в равновероятностные интервалы: [3 3 3 3]\n",
            "\n",
            "Хи2: 14.67\n",
            "Порог: 9.84\n"
          ]
        }
      ]
    },
    {
      "cell_type": "markdown",
      "metadata": {
        "id": "0pDwHkP4PZNo"
      },
      "source": [
        "Хи2 > Порога => H0 - не верна. Имеющиеся наблюения не принадлежат нормальному распределению с параметрами а = 1 и д = 0.5."
      ]
    },
    {
      "cell_type": "code",
      "metadata": {
        "colab": {
          "base_uri": "https://localhost:8080/"
        },
        "id": "SlbFSTyWPMTX",
        "outputId": "dfdb3601-bc01-4cb0-9cd5-8e53cb3ce4a2"
      },
      "source": [
        "print('4_3_2: Опровергнем третью гипотезу'  + \"\\n\")\n",
        "\n",
        "r = cauchy.rvs(1, 1, size=12 * 2, random_state = 122)\n",
        "# получила квантили нормального распределения с параметрами а = 1 и д = 1\n",
        "# на это сайте https://planetcalc.ru/4987/\n",
        "\n",
        "q = [-200, 0.33, 1, 1.67, 200]\n",
        "print('Границы интервалов: ' + str(q) + \"\\n\")\n",
        "\n",
        "observed_count = [0, 0, 0, 0]\n",
        "for i in range(1, len(q)):\n",
        "  for j in range(len(r)):\n",
        "    if (r[j] <= q[i]) and (q[i - 1] <= r[j]):\n",
        "      observed_count[i - 1] += 1\n",
        "\n",
        "espected_count = np.array([3, 3, 3, 3])\n",
        "observed_count = np.array(observed_count)\n",
        "\n",
        "print(\"Попадание наблюдений в равновероятностные интервалы: \" + str(observed_count))\n",
        "print(\"Ожидаемое попадание в равновероятностные интервалы: \" + str(espected_count) + \"\\n\")\n",
        "\n",
        "a = ((observed_count - espected_count) ** 2) / espected_count\n",
        "print( 'Хи2: ' + str(round(np.sum(a), 2)))\n",
        "\n",
        "print('Порог: 9.84')\n"
      ],
      "execution_count": 50,
      "outputs": [
        {
          "output_type": "stream",
          "name": "stdout",
          "text": [
            "4_3_2: Опровергнем третью гипотезу\n",
            "\n",
            "Границы интервалов: [-200, 0.33, 1, 1.67, 200]\n",
            "\n",
            "Попадание наблюдений в равновероятностные интервалы: [8 6 4 6]\n",
            "Ожидаемое попадание в равновероятностные интервалы: [3 3 3 3]\n",
            "\n",
            "Хи2: 14.67\n",
            "Порог: 9.84\n"
          ]
        }
      ]
    },
    {
      "cell_type": "markdown",
      "metadata": {
        "id": "Tk9hF2rYPxW_"
      },
      "source": [
        "Хи2 > Порога => H0 - не верна. Имеющиеся наблюения не принадлежат нормальному распределению с параметрами а = 1 и д = 1."
      ]
    },
    {
      "cell_type": "markdown",
      "metadata": {
        "id": "pb4NLBZmP6qx"
      },
      "source": [
        "10) Критерий Хи2 показал, что при большом числе наблюдений, эти наблюдения не принадлежат ни номальным распределениям, ни распределению Коши. Однако нам известно, что наблюдения были сгенерированы по распределению Коши. Это можно обяснить тем, что распределение Коши особенное и критерий Хи2 для него не подходит."
      ]
    }
  ]
}